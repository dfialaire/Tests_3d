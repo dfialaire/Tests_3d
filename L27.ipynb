{
 "cells": [
  {
   "cell_type": "markdown",
   "metadata": {},
   "source": [
    "# COMP 364: Molecular Structures with BioPython\n",
    "\n",
    "\n",
    "Last week we learned about tools to deal with biological sequences with `BioPython`.\n",
    "\n",
    "Sequence analysis is very important, but ultimately, biological function is determined by structure.\n",
    "\n",
    "Here is the (partial) sequence for a dopamine transporter protein:\n",
    "\n",
    "```\n",
    "DERETWSGKVDFLLSVIGFAVDLANVWRFPYLCYKNGGGAFLVPYGIMLAVGGIPLFYMELALGQHNRKGAITCWGRLVP\n",
    "LFKGIGYAVVLIAFYVDFYYNVIIAWSLRFFFASFTNSLPWTSCNNIWNTPNCRPFEGHVEGFQSAASEYFNRYILELNR\n",
    "SEGIHDLGAIKWDMALCLLIVYLICYFSLWKGISTSGKVVWFTALFPYAVLLILLIRGLTLPGSFLGIQYYLTPNFSAIY\n",
    "KAEVWVDAATQVFFSLGPGFGVLLAYASYNKYHNNVYKDALLTSFINSATSFIAGFVIFSVLGYMAHTLGVRIEDVATEG\n",
    "PGLVFVVYPAAIATMPASTFWALIFFMMLATLGLDSSFGGSEAIITALSDEFPKIKRNRELFVAGLFSLYFVVGLASCTQ\n",
    "GGFYFFHLLDRYAAGYSILVAVFFEAIAVSWIYGTNRFSEDIRDMIGFPPGRYWQVCWRFVAPIFLLFITVYGLIGYEPL\n",
    "TYADYVYPSWANALGWCIAGSSVVMIPAVAIFKLLSTPGSLRQRFTILTTPWRDQ\n",
    "```\n",
    "\n",
    "This protein's job is to take the dopamine neurotransmitter out of the neuron's synapses and terminate that feel-good positive response we get from dopamine.\n",
    "\n",
    "This big string of text doesn't tell us much about how it can actually do this.\n",
    "\n",
    "Structural biologists are able to determine what that sequence looks like when it takes its natural shape in the cell.\n",
    "\n",
    "Here is that sequence's [structure](http://www.rcsb.org/pdb/ngl/ngl.do?pdbid=4XP1&bionumber=1) in 3D.\n",
    "\n",
    "Clearly there is a lot more information coded in the sequence that we need to consider.\n",
    "\n",
    "Today I'll walk you through extracting some useful information from this particular protein using BioPython's `PDB` module."
   ]
  },
  {
   "cell_type": "markdown",
   "metadata": {},
   "source": [
    "### What is a structure?\n",
    "\n",
    "Biomolecules such as proteins, RNA, DNA, and chemicals (such as dopamine) are made up of atoms.\n",
    "\n",
    "Each atom occupies a point in 4 dimensions: X, Y, Z, and time. For now we will forget about time and only deal with fixed shapshots of atoms.\n",
    "\n",
    "Structural biologists isolate molecules in the lab, and using tools such as X-ray crystallography can obtain the X, Y, and Z coordinates of all the atoms in the molecule.\n",
    "\n",
    "![](http://i0.wp.com/cen.xraycrystals.org/wp-content/uploads/2014/07/09232-cover1-BFormDNAcxd.jpg?resize=250%2C288)\n",
    "\n",
    "This is the famous X-ray diffraction pattern of DNA used by Watson & Crick & Franklin to solve the double helix structure of DNA.\n",
    "\n",
    "Other notable structure solving technologies: electron microscopy, cryo-electron microscopy, Nuclear Magnetic Resonance (NMR).\n",
    "\n",
    "We don't have to worry about how they did it, but for many years now, solved structures (3D positions of biomolecules atoms) have been deposited in the [RCSB PDB Database](http://www.rcsb.org/pdb/home/home.do)\n",
    "\n"
   ]
  },
  {
   "cell_type": "markdown",
   "metadata": {},
   "source": [
    "### Downloading a Structure File from the PDB database\n",
    "\n",
    "Every entry in the database has a unique ID code.\n",
    "\n",
    "The dopamine transporter we are interested in is: 4XP1\n",
    "\n",
    "The main file format for sequences is `FASTA`, for structures it is `PDB` or `mmCIF`.\n",
    "\n",
    "BioPython.PDB has parsers for both.\n",
    "\n",
    "[Here](http://biopython.org/wiki/The_Biopython_Structural_Bioinformatics_FAQ) is the main BioPython.PDB reference page.\n",
    "\n",
    "We can automatically download a structure from the database using the `PDBList` object's method `retrieve_pdb_file`."
   ]
  },
  {
   "cell_type": "code",
   "execution_count": 1,
   "metadata": {},
   "outputs": [
    {
     "name": "stdout",
     "output_type": "stream",
     "text": [
      "Structure exists: 'C:\\Users\\dfial\\OneDrive\\00000_BioPython\\Source\\NotBk\\xp\\4xp1.cif' \n"
     ]
    },
    {
     "name": "stderr",
     "output_type": "stream",
     "text": [
      "WARNING: The default download format has changed from PDB to PDBx/mmCif\n"
     ]
    },
    {
     "data": {
      "text/plain": [
       "'C:\\\\Users\\\\dfial\\\\OneDrive\\\\00000_BioPython\\\\Source\\\\NotBk\\\\xp\\\\4xp1.cif'"
      ]
     },
     "execution_count": 1,
     "metadata": {},
     "output_type": "execute_result"
    }
   ],
   "source": [
    "from Bio.PDB import *\n",
    "\n",
    "pdbl = PDBList()\n",
    "pdbl.retrieve_pdb_file('4XP1')"
   ]
  },
  {
   "cell_type": "markdown",
   "metadata": {},
   "source": [
    "That warning tells us that the PDB format is deprecated and that the new default is mmCIF.\n",
    "\n",
    "We'll go into what that looks like in a little bit."
   ]
  },
  {
   "cell_type": "markdown",
   "metadata": {},
   "source": [
    "Now we should have a folder containing `4XP1.cif` in our working directory."
   ]
  },
  {
   "cell_type": "code",
   "execution_count": 2,
   "metadata": {},
   "outputs": [
    {
     "data": {
      "text/plain": [
       "['.ipynb_checkpoints', 'L27.ipynb', 'obsolete', 'requirements.txt', 'xp']"
      ]
     },
     "execution_count": 2,
     "metadata": {},
     "output_type": "execute_result"
    }
   ],
   "source": [
    "import os\n",
    "os.listdir()"
   ]
  },
  {
   "cell_type": "code",
   "execution_count": 3,
   "metadata": {},
   "outputs": [
    {
     "data": {
      "text/plain": [
       "['4xp1.cif']"
      ]
     },
     "execution_count": 3,
     "metadata": {},
     "output_type": "execute_result"
    }
   ],
   "source": [
    "os.listdir('xp')"
   ]
  },
  {
   "cell_type": "markdown",
   "metadata": {},
   "source": [
    "### Parsing Structure files"
   ]
  },
  {
   "cell_type": "code",
   "execution_count": 4,
   "metadata": {},
   "outputs": [],
   "source": [
    "parser = MMCIFParser()"
   ]
  },
  {
   "cell_type": "markdown",
   "metadata": {},
   "source": [
    "The first argument to the instance method `get_structure` is an optional name for the molecule, and the second argument is the path to the structure file."
   ]
  },
  {
   "cell_type": "code",
   "execution_count": 5,
   "metadata": {},
   "outputs": [
    {
     "name": "stderr",
     "output_type": "stream",
     "text": [
      "C:\\Users\\dfial\\anaconda3\\lib\\site-packages\\Bio\\PDB\\StructureBuilder.py:89: PDBConstructionWarning: WARNING: Chain A is discontinuous at line 7523.\n",
      "  warnings.warn(\n",
      "C:\\Users\\dfial\\anaconda3\\lib\\site-packages\\Bio\\PDB\\StructureBuilder.py:89: PDBConstructionWarning: WARNING: Chain L is discontinuous at line 7658.\n",
      "  warnings.warn(\n",
      "C:\\Users\\dfial\\anaconda3\\lib\\site-packages\\Bio\\PDB\\StructureBuilder.py:89: PDBConstructionWarning: WARNING: Chain A is discontinuous at line 7659.\n",
      "  warnings.warn(\n",
      "C:\\Users\\dfial\\anaconda3\\lib\\site-packages\\Bio\\PDB\\StructureBuilder.py:89: PDBConstructionWarning: WARNING: Chain L is discontinuous at line 7674.\n",
      "  warnings.warn(\n",
      "C:\\Users\\dfial\\anaconda3\\lib\\site-packages\\Bio\\PDB\\StructureBuilder.py:89: PDBConstructionWarning: WARNING: Chain H is discontinuous at line 7677.\n",
      "  warnings.warn(\n"
     ]
    }
   ],
   "source": [
    "structure = parser.get_structure('4XP1', 'xp/4xp1.cif')"
   ]
  },
  {
   "cell_type": "markdown",
   "metadata": {},
   "source": [
    "Now we have extracted all the structural information from the file.\n",
    "\n",
    "Let's take a peek at the attributes."
   ]
  },
  {
   "cell_type": "code",
   "execution_count": 6,
   "metadata": {},
   "outputs": [
    {
     "name": "stdout",
     "output_type": "stream",
     "text": [
      "add, atom_to_internal_coordinates, center_of_mass, child_dict, child_list, copy, detach_child, detach_parent, full_id, get_atoms, get_chains, get_full_id, get_id, get_iterator, get_level, get_list, get_models, get_parent, get_residues, has_id, header, id, insert, internal_to_atom_coordinates, level, parent, set_parent, transform, xtra\n"
     ]
    }
   ],
   "source": [
    "def cleandir(obj):\n",
    "    print(\", \".join([a for a in dir(obj) if not a.startswith(\"_\")]))\n",
    "cleandir(structure)"
   ]
  },
  {
   "cell_type": "markdown",
   "metadata": {},
   "source": [
    "Structure objects are organized in a specific hierarchy of objects.\n",
    "\n",
    "![](http://biopython.org/wiki/Smcra.png)\n",
    "\n",
    "We're just going to focus on the core elements which are: Model --> Chain --> Residue --> Atom.\n",
    "\n",
    "Each structure file can contain multiple \"models\" of the same molecule.\n",
    "\n",
    "Each model contains several \"chains\" or strands of protein/RNA/DNA/.\n",
    "\n",
    "Each \"chain\" is made up of residues, or amino acids/DNA bases/RNA bases.\n",
    "\n",
    "Each residue is made up of Atoms."
   ]
  },
  {
   "cell_type": "markdown",
   "metadata": {},
   "source": [
    "### Visualizing structures in jupyter Notebooks"
   ]
  },
  {
   "cell_type": "markdown",
   "metadata": {},
   "source": [
    "There is a very nice \"widget\" for notebooks that lets us visualize structure objects.\n",
    "\n",
    "```\n",
    "conda config --add channels conda-forge\n",
    "conda install nglview -c bioconda\n",
    "# might need: jupyter-nbextension enable nglview --py --sys-prefix\n",
    "```\n",
    "\n",
    "To do more advanced manipulations, it is better to use standalone tools such as [Chimera](https://www.cgl.ucsf.edu/chimera/) and [pyMOL](https://pymol.org/2/).\n",
    "\n",
    "Let's view our dopamine transporter protein bound to dopamine."
   ]
  },
  {
   "cell_type": "code",
   "execution_count": 7,
   "metadata": {},
   "outputs": [
    {
     "data": {
      "application/vnd.jupyter.widget-view+json": {
       "model_id": "a4897969a48f40d29f98abc1eb3b1682",
       "version_major": 2,
       "version_minor": 0
      },
      "text/plain": []
     },
     "metadata": {},
     "output_type": "display_data"
    }
   ],
   "source": [
    "import nglview as nv"
   ]
  },
  {
   "cell_type": "code",
   "execution_count": 8,
   "metadata": {},
   "outputs": [],
   "source": [
    "view = nv.show_biopython(structure)\n",
    "view.clear_representations()\n",
    "#view as ball and stick (atom and bond)\n",
    "view.add_ball_and_stick()"
   ]
  },
  {
   "cell_type": "code",
   "execution_count": 9,
   "metadata": {},
   "outputs": [
    {
     "data": {
      "application/vnd.jupyter.widget-view+json": {
       "model_id": "47f02a0b4cd044a5ad5be0029fc0b214",
       "version_major": 2,
       "version_minor": 0
      },
      "text/plain": [
       "NGLWidget()"
      ]
     },
     "metadata": {},
     "output_type": "display_data"
    }
   ],
   "source": [
    "view"
   ]
  },
  {
   "cell_type": "markdown",
   "metadata": {},
   "source": [
    "As expected, we see a bunch of atoms in 3D space. \n",
    "\n",
    "This can often be hard to look at so we usually visualize this with what's known as a \"ribbon\" representation."
   ]
  },
  {
   "cell_type": "code",
   "execution_count": 10,
   "metadata": {},
   "outputs": [
    {
     "data": {
      "application/vnd.jupyter.widget-view+json": {
       "model_id": "47f02a0b4cd044a5ad5be0029fc0b214",
       "version_major": 2,
       "version_minor": 0
      },
      "text/plain": [
       "NGLWidget(n_components=1)"
      ]
     },
     "metadata": {},
     "output_type": "display_data"
    }
   ],
   "source": [
    "view.clear_representations()\n",
    "#add ribbons\n",
    "view.add_cartoon('protein')\n",
    "#add ball and stick for non-rotien\n",
    "# view.add_ball_and_stick('not protein')\n",
    "view"
   ]
  },
  {
   "cell_type": "markdown",
   "metadata": {
    "collapsed": true
   },
   "source": [
    "Individual atoms are not shown and instead, each chain is visualized as a continuous ribbon. \n",
    "\n",
    "We can see here that we have 3 different chains and a couple of ligands.\n",
    "\n",
    "Let's see how we can get a handle on the different components.\n",
    "\n",
    "How many models are there in this structure? It looks like there is only one transporter protein so we should only have a single model."
   ]
  },
  {
   "cell_type": "code",
   "execution_count": 12,
   "metadata": {},
   "outputs": [
    {
     "name": "stdout",
     "output_type": "stream",
     "text": [
      "model <Model id=0>\n"
     ]
    }
   ],
   "source": [
    "for model in structure:\n",
    "    print(f\"model {model}\")"
   ]
  },
  {
   "cell_type": "markdown",
   "metadata": {},
   "source": [
    "Ok we have one model. \n",
    "\n",
    "But we should have several chains as we saw above."
   ]
  },
  {
   "cell_type": "code",
   "execution_count": 13,
   "metadata": {},
   "outputs": [
    {
     "name": "stdout",
     "output_type": "stream",
     "text": [
      "chain <Chain id=A>, Chain ID: A\n",
      "chain <Chain id=L>, Chain ID: L\n",
      "chain <Chain id=H>, Chain ID: H\n",
      "chain <Chain id=B>, Chain ID: B\n",
      "chain <Chain id=C>, Chain ID: C\n"
     ]
    }
   ],
   "source": [
    "model = structure[0] #since we only have one model\n",
    "for chain in model:\n",
    "    print(f\"chain {chain}, Chain ID: {chain.id}\")"
   ]
  },
  {
   "cell_type": "markdown",
   "metadata": {},
   "source": [
    "Ok as we guessed, we have 3 chains: A, L, and H.\n",
    "\n",
    "We can go one step further and get all the residues in a chain.\n",
    "\n",
    "We can access individual chains like keys in a dictionary from a model."
   ]
  },
  {
   "cell_type": "code",
   "execution_count": 19,
   "metadata": {},
   "outputs": [],
   "source": [
    "chain = model['A']"
   ]
  },
  {
   "cell_type": "code",
   "execution_count": 20,
   "metadata": {},
   "outputs": [
    {
     "name": "stdout",
     "output_type": "stream",
     "text": [
      "Residue name: ASP, id : (' ', 25, ' '), number: 25\n",
      "Residue name: GLU, id : (' ', 26, ' '), number: 26\n",
      "Residue name: ARG, id : (' ', 27, ' '), number: 27\n",
      "Residue name: GLU, id : (' ', 28, ' '), number: 28\n",
      "Residue name: THR, id : (' ', 29, ' '), number: 29\n",
      "Residue name: TRP, id : (' ', 30, ' '), number: 30\n",
      "Residue name: SER, id : (' ', 31, ' '), number: 31\n",
      "Residue name: GLY, id : (' ', 32, ' '), number: 32\n",
      "Residue name: LYS, id : (' ', 33, ' '), number: 33\n",
      "Residue name: VAL, id : (' ', 34, ' '), number: 34\n",
      "Residue name: ASP, id : (' ', 35, ' '), number: 35\n",
      "Residue name: PHE, id : (' ', 36, ' '), number: 36\n",
      "Residue name: LEU, id : (' ', 37, ' '), number: 37\n",
      "Residue name: LEU, id : (' ', 38, ' '), number: 38\n",
      "Residue name: SER, id : (' ', 39, ' '), number: 39\n",
      "Residue name: VAL, id : (' ', 40, ' '), number: 40\n",
      "Residue name: ILE, id : (' ', 41, ' '), number: 41\n",
      "Residue name: GLY, id : (' ', 42, ' '), number: 42\n",
      "Residue name: PHE, id : (' ', 43, ' '), number: 43\n",
      "Residue name: ALA, id : (' ', 44, ' '), number: 44\n",
      "Residue name: VAL, id : (' ', 45, ' '), number: 45\n",
      "Residue name: ASP, id : (' ', 46, ' '), number: 46\n",
      "Residue name: LEU, id : (' ', 47, ' '), number: 47\n",
      "Residue name: ALA, id : (' ', 48, ' '), number: 48\n",
      "Residue name: ASN, id : (' ', 49, ' '), number: 49\n",
      "Residue name: VAL, id : (' ', 50, ' '), number: 50\n",
      "Residue name: TRP, id : (' ', 51, ' '), number: 51\n",
      "Residue name: ARG, id : (' ', 52, ' '), number: 52\n",
      "Residue name: PHE, id : (' ', 53, ' '), number: 53\n",
      "Residue name: PRO, id : (' ', 54, ' '), number: 54\n",
      "Residue name: TYR, id : (' ', 55, ' '), number: 55\n",
      "Residue name: LEU, id : (' ', 56, ' '), number: 56\n",
      "Residue name: CYS, id : (' ', 57, ' '), number: 57\n",
      "Residue name: TYR, id : (' ', 58, ' '), number: 58\n",
      "Residue name: LYS, id : (' ', 59, ' '), number: 59\n",
      "Residue name: ASN, id : (' ', 60, ' '), number: 60\n",
      "Residue name: GLY, id : (' ', 61, ' '), number: 61\n",
      "Residue name: GLY, id : (' ', 62, ' '), number: 62\n",
      "Residue name: GLY, id : (' ', 63, ' '), number: 63\n",
      "Residue name: ALA, id : (' ', 64, ' '), number: 64\n",
      "Residue name: PHE, id : (' ', 65, ' '), number: 65\n",
      "Residue name: LEU, id : (' ', 66, ' '), number: 66\n",
      "Residue name: VAL, id : (' ', 67, ' '), number: 67\n",
      "Residue name: PRO, id : (' ', 68, ' '), number: 68\n",
      "Residue name: TYR, id : (' ', 69, ' '), number: 69\n",
      "Residue name: GLY, id : (' ', 70, ' '), number: 70\n",
      "Residue name: ILE, id : (' ', 71, ' '), number: 71\n",
      "Residue name: MET, id : (' ', 72, ' '), number: 72\n",
      "Residue name: LEU, id : (' ', 73, ' '), number: 73\n",
      "Residue name: ALA, id : (' ', 74, ' '), number: 74\n",
      "Residue name: VAL, id : (' ', 75, ' '), number: 75\n",
      "Residue name: GLY, id : (' ', 76, ' '), number: 76\n",
      "Residue name: GLY, id : (' ', 77, ' '), number: 77\n",
      "Residue name: ILE, id : (' ', 78, ' '), number: 78\n",
      "Residue name: PRO, id : (' ', 79, ' '), number: 79\n",
      "Residue name: LEU, id : (' ', 80, ' '), number: 80\n",
      "Residue name: PHE, id : (' ', 81, ' '), number: 81\n",
      "Residue name: TYR, id : (' ', 82, ' '), number: 82\n",
      "Residue name: MET, id : (' ', 83, ' '), number: 83\n",
      "Residue name: GLU, id : (' ', 84, ' '), number: 84\n",
      "Residue name: LEU, id : (' ', 85, ' '), number: 85\n",
      "Residue name: ALA, id : (' ', 86, ' '), number: 86\n",
      "Residue name: LEU, id : (' ', 87, ' '), number: 87\n",
      "Residue name: GLY, id : (' ', 88, ' '), number: 88\n",
      "Residue name: GLN, id : (' ', 89, ' '), number: 89\n",
      "Residue name: HIS, id : (' ', 90, ' '), number: 90\n",
      "Residue name: ASN, id : (' ', 91, ' '), number: 91\n",
      "Residue name: ARG, id : (' ', 92, ' '), number: 92\n",
      "Residue name: LYS, id : (' ', 93, ' '), number: 93\n",
      "Residue name: GLY, id : (' ', 94, ' '), number: 94\n",
      "Residue name: ALA, id : (' ', 95, ' '), number: 95\n",
      "Residue name: ILE, id : (' ', 96, ' '), number: 96\n",
      "Residue name: THR, id : (' ', 97, ' '), number: 97\n",
      "Residue name: CYS, id : (' ', 98, ' '), number: 98\n",
      "Residue name: TRP, id : (' ', 99, ' '), number: 99\n",
      "Residue name: GLY, id : (' ', 100, ' '), number: 100\n",
      "Residue name: ARG, id : (' ', 101, ' '), number: 101\n",
      "Residue name: LEU, id : (' ', 102, ' '), number: 102\n",
      "Residue name: VAL, id : (' ', 103, ' '), number: 103\n",
      "Residue name: PRO, id : (' ', 104, ' '), number: 104\n",
      "Residue name: LEU, id : (' ', 105, ' '), number: 105\n",
      "Residue name: PHE, id : (' ', 106, ' '), number: 106\n",
      "Residue name: LYS, id : (' ', 107, ' '), number: 107\n",
      "Residue name: GLY, id : (' ', 108, ' '), number: 108\n",
      "Residue name: ILE, id : (' ', 109, ' '), number: 109\n",
      "Residue name: GLY, id : (' ', 110, ' '), number: 110\n",
      "Residue name: TYR, id : (' ', 111, ' '), number: 111\n",
      "Residue name: ALA, id : (' ', 112, ' '), number: 112\n",
      "Residue name: VAL, id : (' ', 113, ' '), number: 113\n",
      "Residue name: VAL, id : (' ', 114, ' '), number: 114\n",
      "Residue name: LEU, id : (' ', 115, ' '), number: 115\n",
      "Residue name: ILE, id : (' ', 116, ' '), number: 116\n",
      "Residue name: ALA, id : (' ', 117, ' '), number: 117\n",
      "Residue name: PHE, id : (' ', 118, ' '), number: 118\n",
      "Residue name: TYR, id : (' ', 119, ' '), number: 119\n",
      "Residue name: VAL, id : (' ', 120, ' '), number: 120\n",
      "Residue name: ASP, id : (' ', 121, ' '), number: 121\n",
      "Residue name: PHE, id : (' ', 122, ' '), number: 122\n",
      "Residue name: TYR, id : (' ', 123, ' '), number: 123\n",
      "Residue name: TYR, id : (' ', 124, ' '), number: 124\n",
      "Residue name: ASN, id : (' ', 125, ' '), number: 125\n",
      "Residue name: VAL, id : (' ', 126, ' '), number: 126\n",
      "Residue name: ILE, id : (' ', 127, ' '), number: 127\n",
      "Residue name: ILE, id : (' ', 128, ' '), number: 128\n",
      "Residue name: ALA, id : (' ', 129, ' '), number: 129\n",
      "Residue name: TRP, id : (' ', 130, ' '), number: 130\n",
      "Residue name: SER, id : (' ', 131, ' '), number: 131\n",
      "Residue name: LEU, id : (' ', 132, ' '), number: 132\n",
      "Residue name: ARG, id : (' ', 133, ' '), number: 133\n",
      "Residue name: PHE, id : (' ', 134, ' '), number: 134\n",
      "Residue name: PHE, id : (' ', 135, ' '), number: 135\n",
      "Residue name: PHE, id : (' ', 136, ' '), number: 136\n",
      "Residue name: ALA, id : (' ', 137, ' '), number: 137\n",
      "Residue name: SER, id : (' ', 138, ' '), number: 138\n",
      "Residue name: PHE, id : (' ', 139, ' '), number: 139\n",
      "Residue name: THR, id : (' ', 140, ' '), number: 140\n",
      "Residue name: ASN, id : (' ', 141, ' '), number: 141\n",
      "Residue name: SER, id : (' ', 142, ' '), number: 142\n",
      "Residue name: LEU, id : (' ', 143, ' '), number: 143\n",
      "Residue name: PRO, id : (' ', 144, ' '), number: 144\n",
      "Residue name: TRP, id : (' ', 145, ' '), number: 145\n",
      "Residue name: THR, id : (' ', 146, ' '), number: 146\n",
      "Residue name: SER, id : (' ', 147, ' '), number: 147\n",
      "Residue name: CYS, id : (' ', 148, ' '), number: 148\n",
      "Residue name: ASN, id : (' ', 149, ' '), number: 149\n",
      "Residue name: ASN, id : (' ', 150, ' '), number: 150\n",
      "Residue name: ILE, id : (' ', 151, ' '), number: 151\n",
      "Residue name: TRP, id : (' ', 152, ' '), number: 152\n",
      "Residue name: ASN, id : (' ', 153, ' '), number: 153\n",
      "Residue name: THR, id : (' ', 154, ' '), number: 154\n",
      "Residue name: PRO, id : (' ', 155, ' '), number: 155\n",
      "Residue name: ASN, id : (' ', 156, ' '), number: 156\n",
      "Residue name: CYS, id : (' ', 157, ' '), number: 157\n",
      "Residue name: ARG, id : (' ', 158, ' '), number: 158\n",
      "Residue name: PRO, id : (' ', 159, ' '), number: 159\n",
      "Residue name: PHE, id : (' ', 160, ' '), number: 160\n",
      "Residue name: GLU, id : (' ', 161, ' '), number: 161\n",
      "Residue name: GLY, id : (' ', 203, ' '), number: 203\n",
      "Residue name: HIS, id : (' ', 204, ' '), number: 204\n",
      "Residue name: VAL, id : (' ', 205, ' '), number: 205\n",
      "Residue name: GLU, id : (' ', 206, ' '), number: 206\n",
      "Residue name: GLY, id : (' ', 207, ' '), number: 207\n",
      "Residue name: PHE, id : (' ', 208, ' '), number: 208\n",
      "Residue name: GLN, id : (' ', 209, ' '), number: 209\n",
      "Residue name: SER, id : (' ', 210, ' '), number: 210\n",
      "Residue name: ALA, id : (' ', 211, ' '), number: 211\n",
      "Residue name: ALA, id : (' ', 212, ' '), number: 212\n",
      "Residue name: SER, id : (' ', 213, ' '), number: 213\n",
      "Residue name: GLU, id : (' ', 214, ' '), number: 214\n",
      "Residue name: TYR, id : (' ', 215, ' '), number: 215\n",
      "Residue name: PHE, id : (' ', 216, ' '), number: 216\n",
      "Residue name: ASN, id : (' ', 217, ' '), number: 217\n",
      "Residue name: ARG, id : (' ', 218, ' '), number: 218\n",
      "Residue name: TYR, id : (' ', 219, ' '), number: 219\n",
      "Residue name: ILE, id : (' ', 220, ' '), number: 220\n",
      "Residue name: LEU, id : (' ', 221, ' '), number: 221\n",
      "Residue name: GLU, id : (' ', 222, ' '), number: 222\n",
      "Residue name: LEU, id : (' ', 223, ' '), number: 223\n",
      "Residue name: ASN, id : (' ', 224, ' '), number: 224\n",
      "Residue name: ARG, id : (' ', 225, ' '), number: 225\n",
      "Residue name: SER, id : (' ', 226, ' '), number: 226\n",
      "Residue name: GLU, id : (' ', 227, ' '), number: 227\n",
      "Residue name: GLY, id : (' ', 228, ' '), number: 228\n",
      "Residue name: ILE, id : (' ', 229, ' '), number: 229\n",
      "Residue name: HIS, id : (' ', 230, ' '), number: 230\n",
      "Residue name: ASP, id : (' ', 231, ' '), number: 231\n",
      "Residue name: LEU, id : (' ', 232, ' '), number: 232\n",
      "Residue name: GLY, id : (' ', 233, ' '), number: 233\n",
      "Residue name: ALA, id : (' ', 234, ' '), number: 234\n",
      "Residue name: ILE, id : (' ', 235, ' '), number: 235\n",
      "Residue name: LYS, id : (' ', 236, ' '), number: 236\n",
      "Residue name: TRP, id : (' ', 237, ' '), number: 237\n",
      "Residue name: ASP, id : (' ', 238, ' '), number: 238\n",
      "Residue name: MET, id : (' ', 239, ' '), number: 239\n",
      "Residue name: ALA, id : (' ', 240, ' '), number: 240\n",
      "Residue name: LEU, id : (' ', 241, ' '), number: 241\n",
      "Residue name: CYS, id : (' ', 242, ' '), number: 242\n",
      "Residue name: LEU, id : (' ', 243, ' '), number: 243\n",
      "Residue name: LEU, id : (' ', 244, ' '), number: 244\n",
      "Residue name: ILE, id : (' ', 245, ' '), number: 245\n",
      "Residue name: VAL, id : (' ', 246, ' '), number: 246\n",
      "Residue name: TYR, id : (' ', 247, ' '), number: 247\n",
      "Residue name: LEU, id : (' ', 248, ' '), number: 248\n",
      "Residue name: ILE, id : (' ', 249, ' '), number: 249\n",
      "Residue name: CYS, id : (' ', 250, ' '), number: 250\n",
      "Residue name: TYR, id : (' ', 251, ' '), number: 251\n",
      "Residue name: PHE, id : (' ', 252, ' '), number: 252\n",
      "Residue name: SER, id : (' ', 253, ' '), number: 253\n",
      "Residue name: LEU, id : (' ', 254, ' '), number: 254\n",
      "Residue name: TRP, id : (' ', 255, ' '), number: 255\n",
      "Residue name: LYS, id : (' ', 256, ' '), number: 256\n",
      "Residue name: GLY, id : (' ', 257, ' '), number: 257\n",
      "Residue name: ILE, id : (' ', 258, ' '), number: 258\n",
      "Residue name: SER, id : (' ', 259, ' '), number: 259\n",
      "Residue name: THR, id : (' ', 260, ' '), number: 260\n",
      "Residue name: SER, id : (' ', 261, ' '), number: 261\n",
      "Residue name: GLY, id : (' ', 262, ' '), number: 262\n",
      "Residue name: LYS, id : (' ', 263, ' '), number: 263\n",
      "Residue name: VAL, id : (' ', 264, ' '), number: 264\n",
      "Residue name: VAL, id : (' ', 265, ' '), number: 265\n",
      "Residue name: TRP, id : (' ', 266, ' '), number: 266\n",
      "Residue name: PHE, id : (' ', 267, ' '), number: 267\n",
      "Residue name: THR, id : (' ', 268, ' '), number: 268\n",
      "Residue name: ALA, id : (' ', 269, ' '), number: 269\n",
      "Residue name: LEU, id : (' ', 270, ' '), number: 270\n",
      "Residue name: PHE, id : (' ', 271, ' '), number: 271\n",
      "Residue name: PRO, id : (' ', 272, ' '), number: 272\n",
      "Residue name: TYR, id : (' ', 273, ' '), number: 273\n",
      "Residue name: ALA, id : (' ', 274, ' '), number: 274\n",
      "Residue name: VAL, id : (' ', 275, ' '), number: 275\n",
      "Residue name: LEU, id : (' ', 276, ' '), number: 276\n",
      "Residue name: LEU, id : (' ', 277, ' '), number: 277\n",
      "Residue name: ILE, id : (' ', 278, ' '), number: 278\n",
      "Residue name: LEU, id : (' ', 279, ' '), number: 279\n",
      "Residue name: LEU, id : (' ', 280, ' '), number: 280\n",
      "Residue name: ILE, id : (' ', 281, ' '), number: 281\n",
      "Residue name: ARG, id : (' ', 282, ' '), number: 282\n",
      "Residue name: GLY, id : (' ', 283, ' '), number: 283\n",
      "Residue name: LEU, id : (' ', 284, ' '), number: 284\n",
      "Residue name: THR, id : (' ', 285, ' '), number: 285\n",
      "Residue name: LEU, id : (' ', 286, ' '), number: 286\n",
      "Residue name: PRO, id : (' ', 287, ' '), number: 287\n",
      "Residue name: GLY, id : (' ', 288, ' '), number: 288\n",
      "Residue name: SER, id : (' ', 289, ' '), number: 289\n",
      "Residue name: PHE, id : (' ', 290, ' '), number: 290\n",
      "Residue name: LEU, id : (' ', 291, ' '), number: 291\n",
      "Residue name: GLY, id : (' ', 292, ' '), number: 292\n",
      "Residue name: ILE, id : (' ', 293, ' '), number: 293\n",
      "Residue name: GLN, id : (' ', 294, ' '), number: 294\n",
      "Residue name: TYR, id : (' ', 295, ' '), number: 295\n",
      "Residue name: TYR, id : (' ', 296, ' '), number: 296\n",
      "Residue name: LEU, id : (' ', 297, ' '), number: 297\n",
      "Residue name: THR, id : (' ', 298, ' '), number: 298\n",
      "Residue name: PRO, id : (' ', 299, ' '), number: 299\n",
      "Residue name: ASN, id : (' ', 300, ' '), number: 300\n",
      "Residue name: PHE, id : (' ', 301, ' '), number: 301\n",
      "Residue name: SER, id : (' ', 302, ' '), number: 302\n",
      "Residue name: ALA, id : (' ', 303, ' '), number: 303\n",
      "Residue name: ILE, id : (' ', 304, ' '), number: 304\n",
      "Residue name: TYR, id : (' ', 305, ' '), number: 305\n",
      "Residue name: LYS, id : (' ', 306, ' '), number: 306\n",
      "Residue name: ALA, id : (' ', 307, ' '), number: 307\n",
      "Residue name: GLU, id : (' ', 308, ' '), number: 308\n",
      "Residue name: VAL, id : (' ', 309, ' '), number: 309\n",
      "Residue name: TRP, id : (' ', 310, ' '), number: 310\n",
      "Residue name: VAL, id : (' ', 311, ' '), number: 311\n",
      "Residue name: ASP, id : (' ', 312, ' '), number: 312\n",
      "Residue name: ALA, id : (' ', 313, ' '), number: 313\n",
      "Residue name: ALA, id : (' ', 314, ' '), number: 314\n",
      "Residue name: THR, id : (' ', 315, ' '), number: 315\n",
      "Residue name: GLN, id : (' ', 316, ' '), number: 316\n",
      "Residue name: VAL, id : (' ', 317, ' '), number: 317\n",
      "Residue name: PHE, id : (' ', 318, ' '), number: 318\n",
      "Residue name: PHE, id : (' ', 319, ' '), number: 319\n",
      "Residue name: SER, id : (' ', 320, ' '), number: 320\n",
      "Residue name: LEU, id : (' ', 321, ' '), number: 321\n",
      "Residue name: GLY, id : (' ', 322, ' '), number: 322\n",
      "Residue name: PRO, id : (' ', 323, ' '), number: 323\n",
      "Residue name: GLY, id : (' ', 324, ' '), number: 324\n",
      "Residue name: PHE, id : (' ', 325, ' '), number: 325\n",
      "Residue name: GLY, id : (' ', 326, ' '), number: 326\n",
      "Residue name: VAL, id : (' ', 327, ' '), number: 327\n",
      "Residue name: LEU, id : (' ', 328, ' '), number: 328\n",
      "Residue name: LEU, id : (' ', 329, ' '), number: 329\n",
      "Residue name: ALA, id : (' ', 330, ' '), number: 330\n",
      "Residue name: TYR, id : (' ', 331, ' '), number: 331\n",
      "Residue name: ALA, id : (' ', 332, ' '), number: 332\n",
      "Residue name: SER, id : (' ', 333, ' '), number: 333\n",
      "Residue name: TYR, id : (' ', 334, ' '), number: 334\n",
      "Residue name: ASN, id : (' ', 335, ' '), number: 335\n",
      "Residue name: LYS, id : (' ', 336, ' '), number: 336\n",
      "Residue name: TYR, id : (' ', 337, ' '), number: 337\n",
      "Residue name: HIS, id : (' ', 338, ' '), number: 338\n",
      "Residue name: ASN, id : (' ', 339, ' '), number: 339\n",
      "Residue name: ASN, id : (' ', 340, ' '), number: 340\n",
      "Residue name: VAL, id : (' ', 341, ' '), number: 341\n",
      "Residue name: TYR, id : (' ', 342, ' '), number: 342\n",
      "Residue name: LYS, id : (' ', 343, ' '), number: 343\n",
      "Residue name: ASP, id : (' ', 344, ' '), number: 344\n",
      "Residue name: ALA, id : (' ', 345, ' '), number: 345\n",
      "Residue name: LEU, id : (' ', 346, ' '), number: 346\n",
      "Residue name: LEU, id : (' ', 347, ' '), number: 347\n",
      "Residue name: THR, id : (' ', 348, ' '), number: 348\n",
      "Residue name: SER, id : (' ', 349, ' '), number: 349\n",
      "Residue name: PHE, id : (' ', 350, ' '), number: 350\n",
      "Residue name: ILE, id : (' ', 351, ' '), number: 351\n",
      "Residue name: ASN, id : (' ', 352, ' '), number: 352\n",
      "Residue name: SER, id : (' ', 353, ' '), number: 353\n",
      "Residue name: ALA, id : (' ', 354, ' '), number: 354\n",
      "Residue name: THR, id : (' ', 355, ' '), number: 355\n",
      "Residue name: SER, id : (' ', 356, ' '), number: 356\n",
      "Residue name: PHE, id : (' ', 357, ' '), number: 357\n",
      "Residue name: ILE, id : (' ', 358, ' '), number: 358\n",
      "Residue name: ALA, id : (' ', 359, ' '), number: 359\n",
      "Residue name: GLY, id : (' ', 360, ' '), number: 360\n",
      "Residue name: PHE, id : (' ', 361, ' '), number: 361\n",
      "Residue name: VAL, id : (' ', 362, ' '), number: 362\n",
      "Residue name: ILE, id : (' ', 363, ' '), number: 363\n",
      "Residue name: PHE, id : (' ', 364, ' '), number: 364\n",
      "Residue name: SER, id : (' ', 365, ' '), number: 365\n",
      "Residue name: VAL, id : (' ', 366, ' '), number: 366\n",
      "Residue name: LEU, id : (' ', 367, ' '), number: 367\n",
      "Residue name: GLY, id : (' ', 368, ' '), number: 368\n",
      "Residue name: TYR, id : (' ', 369, ' '), number: 369\n",
      "Residue name: MET, id : (' ', 370, ' '), number: 370\n",
      "Residue name: ALA, id : (' ', 371, ' '), number: 371\n",
      "Residue name: HIS, id : (' ', 372, ' '), number: 372\n",
      "Residue name: THR, id : (' ', 373, ' '), number: 373\n",
      "Residue name: LEU, id : (' ', 374, ' '), number: 374\n",
      "Residue name: GLY, id : (' ', 375, ' '), number: 375\n",
      "Residue name: VAL, id : (' ', 376, ' '), number: 376\n",
      "Residue name: ARG, id : (' ', 377, ' '), number: 377\n",
      "Residue name: ILE, id : (' ', 378, ' '), number: 378\n",
      "Residue name: GLU, id : (' ', 379, ' '), number: 379\n",
      "Residue name: ASP, id : (' ', 380, ' '), number: 380\n",
      "Residue name: VAL, id : (' ', 381, ' '), number: 381\n",
      "Residue name: ALA, id : (' ', 382, ' '), number: 382\n",
      "Residue name: THR, id : (' ', 383, ' '), number: 383\n",
      "Residue name: GLU, id : (' ', 384, ' '), number: 384\n",
      "Residue name: GLY, id : (' ', 385, ' '), number: 385\n",
      "Residue name: PRO, id : (' ', 386, ' '), number: 386\n",
      "Residue name: GLY, id : (' ', 387, ' '), number: 387\n",
      "Residue name: LEU, id : (' ', 388, ' '), number: 388\n",
      "Residue name: VAL, id : (' ', 389, ' '), number: 389\n",
      "Residue name: PHE, id : (' ', 390, ' '), number: 390\n",
      "Residue name: VAL, id : (' ', 391, ' '), number: 391\n",
      "Residue name: VAL, id : (' ', 392, ' '), number: 392\n",
      "Residue name: TYR, id : (' ', 393, ' '), number: 393\n",
      "Residue name: PRO, id : (' ', 394, ' '), number: 394\n",
      "Residue name: ALA, id : (' ', 395, ' '), number: 395\n",
      "Residue name: ALA, id : (' ', 396, ' '), number: 396\n",
      "Residue name: ILE, id : (' ', 397, ' '), number: 397\n",
      "Residue name: ALA, id : (' ', 398, ' '), number: 398\n",
      "Residue name: THR, id : (' ', 399, ' '), number: 399\n",
      "Residue name: MET, id : (' ', 400, ' '), number: 400\n",
      "Residue name: PRO, id : (' ', 401, ' '), number: 401\n",
      "Residue name: ALA, id : (' ', 402, ' '), number: 402\n",
      "Residue name: SER, id : (' ', 403, ' '), number: 403\n",
      "Residue name: THR, id : (' ', 404, ' '), number: 404\n",
      "Residue name: PHE, id : (' ', 405, ' '), number: 405\n",
      "Residue name: TRP, id : (' ', 406, ' '), number: 406\n",
      "Residue name: ALA, id : (' ', 407, ' '), number: 407\n",
      "Residue name: LEU, id : (' ', 408, ' '), number: 408\n",
      "Residue name: ILE, id : (' ', 409, ' '), number: 409\n",
      "Residue name: PHE, id : (' ', 410, ' '), number: 410\n",
      "Residue name: PHE, id : (' ', 411, ' '), number: 411\n",
      "Residue name: MET, id : (' ', 412, ' '), number: 412\n",
      "Residue name: MET, id : (' ', 413, ' '), number: 413\n",
      "Residue name: LEU, id : (' ', 414, ' '), number: 414\n",
      "Residue name: ALA, id : (' ', 415, ' '), number: 415\n",
      "Residue name: THR, id : (' ', 416, ' '), number: 416\n",
      "Residue name: LEU, id : (' ', 417, ' '), number: 417\n",
      "Residue name: GLY, id : (' ', 418, ' '), number: 418\n",
      "Residue name: LEU, id : (' ', 419, ' '), number: 419\n",
      "Residue name: ASP, id : (' ', 420, ' '), number: 420\n",
      "Residue name: SER, id : (' ', 421, ' '), number: 421\n",
      "Residue name: SER, id : (' ', 422, ' '), number: 422\n",
      "Residue name: PHE, id : (' ', 423, ' '), number: 423\n",
      "Residue name: GLY, id : (' ', 424, ' '), number: 424\n",
      "Residue name: GLY, id : (' ', 425, ' '), number: 425\n",
      "Residue name: SER, id : (' ', 426, ' '), number: 426\n",
      "Residue name: GLU, id : (' ', 427, ' '), number: 427\n",
      "Residue name: ALA, id : (' ', 428, ' '), number: 428\n",
      "Residue name: ILE, id : (' ', 429, ' '), number: 429\n",
      "Residue name: ILE, id : (' ', 430, ' '), number: 430\n",
      "Residue name: THR, id : (' ', 431, ' '), number: 431\n",
      "Residue name: ALA, id : (' ', 432, ' '), number: 432\n",
      "Residue name: LEU, id : (' ', 433, ' '), number: 433\n",
      "Residue name: SER, id : (' ', 434, ' '), number: 434\n",
      "Residue name: ASP, id : (' ', 435, ' '), number: 435\n",
      "Residue name: GLU, id : (' ', 436, ' '), number: 436\n",
      "Residue name: PHE, id : (' ', 437, ' '), number: 437\n",
      "Residue name: PRO, id : (' ', 438, ' '), number: 438\n",
      "Residue name: LYS, id : (' ', 439, ' '), number: 439\n",
      "Residue name: ILE, id : (' ', 440, ' '), number: 440\n",
      "Residue name: LYS, id : (' ', 441, ' '), number: 441\n",
      "Residue name: ARG, id : (' ', 442, ' '), number: 442\n",
      "Residue name: ASN, id : (' ', 443, ' '), number: 443\n",
      "Residue name: ARG, id : (' ', 444, ' '), number: 444\n",
      "Residue name: GLU, id : (' ', 445, ' '), number: 445\n",
      "Residue name: LEU, id : (' ', 446, ' '), number: 446\n",
      "Residue name: PHE, id : (' ', 447, ' '), number: 447\n",
      "Residue name: VAL, id : (' ', 448, ' '), number: 448\n",
      "Residue name: ALA, id : (' ', 449, ' '), number: 449\n",
      "Residue name: GLY, id : (' ', 450, ' '), number: 450\n",
      "Residue name: LEU, id : (' ', 451, ' '), number: 451\n",
      "Residue name: PHE, id : (' ', 452, ' '), number: 452\n",
      "Residue name: SER, id : (' ', 453, ' '), number: 453\n",
      "Residue name: LEU, id : (' ', 454, ' '), number: 454\n",
      "Residue name: TYR, id : (' ', 455, ' '), number: 455\n",
      "Residue name: PHE, id : (' ', 456, ' '), number: 456\n",
      "Residue name: VAL, id : (' ', 457, ' '), number: 457\n",
      "Residue name: VAL, id : (' ', 458, ' '), number: 458\n",
      "Residue name: GLY, id : (' ', 459, ' '), number: 459\n",
      "Residue name: LEU, id : (' ', 460, ' '), number: 460\n",
      "Residue name: ALA, id : (' ', 461, ' '), number: 461\n",
      "Residue name: SER, id : (' ', 462, ' '), number: 462\n",
      "Residue name: CYS, id : (' ', 463, ' '), number: 463\n",
      "Residue name: THR, id : (' ', 464, ' '), number: 464\n",
      "Residue name: GLN, id : (' ', 465, ' '), number: 465\n",
      "Residue name: GLY, id : (' ', 466, ' '), number: 466\n",
      "Residue name: GLY, id : (' ', 467, ' '), number: 467\n",
      "Residue name: PHE, id : (' ', 468, ' '), number: 468\n",
      "Residue name: TYR, id : (' ', 469, ' '), number: 469\n",
      "Residue name: PHE, id : (' ', 470, ' '), number: 470\n",
      "Residue name: PHE, id : (' ', 471, ' '), number: 471\n",
      "Residue name: HIS, id : (' ', 472, ' '), number: 472\n",
      "Residue name: LEU, id : (' ', 473, ' '), number: 473\n",
      "Residue name: LEU, id : (' ', 474, ' '), number: 474\n",
      "Residue name: ASP, id : (' ', 475, ' '), number: 475\n",
      "Residue name: ARG, id : (' ', 476, ' '), number: 476\n",
      "Residue name: TYR, id : (' ', 477, ' '), number: 477\n",
      "Residue name: ALA, id : (' ', 478, ' '), number: 478\n",
      "Residue name: ALA, id : (' ', 479, ' '), number: 479\n",
      "Residue name: GLY, id : (' ', 480, ' '), number: 480\n",
      "Residue name: TYR, id : (' ', 481, ' '), number: 481\n",
      "Residue name: SER, id : (' ', 482, ' '), number: 482\n",
      "Residue name: ILE, id : (' ', 483, ' '), number: 483\n",
      "Residue name: LEU, id : (' ', 484, ' '), number: 484\n",
      "Residue name: VAL, id : (' ', 485, ' '), number: 485\n",
      "Residue name: ALA, id : (' ', 486, ' '), number: 486\n",
      "Residue name: VAL, id : (' ', 487, ' '), number: 487\n",
      "Residue name: PHE, id : (' ', 488, ' '), number: 488\n",
      "Residue name: PHE, id : (' ', 489, ' '), number: 489\n",
      "Residue name: GLU, id : (' ', 490, ' '), number: 490\n",
      "Residue name: ALA, id : (' ', 491, ' '), number: 491\n",
      "Residue name: ILE, id : (' ', 492, ' '), number: 492\n",
      "Residue name: ALA, id : (' ', 493, ' '), number: 493\n",
      "Residue name: VAL, id : (' ', 494, ' '), number: 494\n",
      "Residue name: SER, id : (' ', 495, ' '), number: 495\n",
      "Residue name: TRP, id : (' ', 496, ' '), number: 496\n",
      "Residue name: ILE, id : (' ', 497, ' '), number: 497\n",
      "Residue name: TYR, id : (' ', 498, ' '), number: 498\n",
      "Residue name: GLY, id : (' ', 499, ' '), number: 499\n",
      "Residue name: THR, id : (' ', 500, ' '), number: 500\n",
      "Residue name: ASN, id : (' ', 501, ' '), number: 501\n",
      "Residue name: ARG, id : (' ', 502, ' '), number: 502\n",
      "Residue name: PHE, id : (' ', 503, ' '), number: 503\n",
      "Residue name: SER, id : (' ', 504, ' '), number: 504\n",
      "Residue name: GLU, id : (' ', 505, ' '), number: 505\n",
      "Residue name: ASP, id : (' ', 506, ' '), number: 506\n",
      "Residue name: ILE, id : (' ', 507, ' '), number: 507\n",
      "Residue name: ARG, id : (' ', 508, ' '), number: 508\n",
      "Residue name: ASP, id : (' ', 509, ' '), number: 509\n",
      "Residue name: MET, id : (' ', 510, ' '), number: 510\n",
      "Residue name: ILE, id : (' ', 511, ' '), number: 511\n",
      "Residue name: GLY, id : (' ', 512, ' '), number: 512\n",
      "Residue name: PHE, id : (' ', 513, ' '), number: 513\n",
      "Residue name: PRO, id : (' ', 514, ' '), number: 514\n",
      "Residue name: PRO, id : (' ', 515, ' '), number: 515\n",
      "Residue name: GLY, id : (' ', 516, ' '), number: 516\n",
      "Residue name: ARG, id : (' ', 517, ' '), number: 517\n",
      "Residue name: TYR, id : (' ', 518, ' '), number: 518\n",
      "Residue name: TRP, id : (' ', 519, ' '), number: 519\n",
      "Residue name: GLN, id : (' ', 520, ' '), number: 520\n",
      "Residue name: VAL, id : (' ', 521, ' '), number: 521\n",
      "Residue name: CYS, id : (' ', 522, ' '), number: 522\n",
      "Residue name: TRP, id : (' ', 523, ' '), number: 523\n",
      "Residue name: ARG, id : (' ', 524, ' '), number: 524\n",
      "Residue name: PHE, id : (' ', 525, ' '), number: 525\n",
      "Residue name: VAL, id : (' ', 526, ' '), number: 526\n",
      "Residue name: ALA, id : (' ', 527, ' '), number: 527\n",
      "Residue name: PRO, id : (' ', 528, ' '), number: 528\n",
      "Residue name: ILE, id : (' ', 529, ' '), number: 529\n",
      "Residue name: PHE, id : (' ', 530, ' '), number: 530\n",
      "Residue name: LEU, id : (' ', 531, ' '), number: 531\n",
      "Residue name: LEU, id : (' ', 532, ' '), number: 532\n",
      "Residue name: PHE, id : (' ', 533, ' '), number: 533\n",
      "Residue name: ILE, id : (' ', 534, ' '), number: 534\n",
      "Residue name: THR, id : (' ', 535, ' '), number: 535\n",
      "Residue name: VAL, id : (' ', 536, ' '), number: 536\n",
      "Residue name: TYR, id : (' ', 537, ' '), number: 537\n",
      "Residue name: GLY, id : (' ', 538, ' '), number: 538\n",
      "Residue name: LEU, id : (' ', 539, ' '), number: 539\n",
      "Residue name: ILE, id : (' ', 540, ' '), number: 540\n",
      "Residue name: GLY, id : (' ', 541, ' '), number: 541\n",
      "Residue name: TYR, id : (' ', 542, ' '), number: 542\n",
      "Residue name: GLU, id : (' ', 543, ' '), number: 543\n",
      "Residue name: PRO, id : (' ', 544, ' '), number: 544\n",
      "Residue name: LEU, id : (' ', 545, ' '), number: 545\n",
      "Residue name: THR, id : (' ', 546, ' '), number: 546\n",
      "Residue name: TYR, id : (' ', 547, ' '), number: 547\n",
      "Residue name: ALA, id : (' ', 548, ' '), number: 548\n",
      "Residue name: ASP, id : (' ', 549, ' '), number: 549\n",
      "Residue name: TYR, id : (' ', 550, ' '), number: 550\n",
      "Residue name: VAL, id : (' ', 551, ' '), number: 551\n",
      "Residue name: TYR, id : (' ', 552, ' '), number: 552\n",
      "Residue name: PRO, id : (' ', 553, ' '), number: 553\n",
      "Residue name: SER, id : (' ', 554, ' '), number: 554\n",
      "Residue name: TRP, id : (' ', 555, ' '), number: 555\n",
      "Residue name: ALA, id : (' ', 556, ' '), number: 556\n",
      "Residue name: ASN, id : (' ', 557, ' '), number: 557\n",
      "Residue name: ALA, id : (' ', 558, ' '), number: 558\n",
      "Residue name: LEU, id : (' ', 559, ' '), number: 559\n",
      "Residue name: GLY, id : (' ', 560, ' '), number: 560\n",
      "Residue name: TRP, id : (' ', 561, ' '), number: 561\n",
      "Residue name: CYS, id : (' ', 562, ' '), number: 562\n",
      "Residue name: ILE, id : (' ', 563, ' '), number: 563\n",
      "Residue name: ALA, id : (' ', 564, ' '), number: 564\n",
      "Residue name: GLY, id : (' ', 565, ' '), number: 565\n",
      "Residue name: SER, id : (' ', 566, ' '), number: 566\n",
      "Residue name: SER, id : (' ', 567, ' '), number: 567\n",
      "Residue name: VAL, id : (' ', 568, ' '), number: 568\n",
      "Residue name: VAL, id : (' ', 569, ' '), number: 569\n",
      "Residue name: MET, id : (' ', 570, ' '), number: 570\n",
      "Residue name: ILE, id : (' ', 571, ' '), number: 571\n",
      "Residue name: PRO, id : (' ', 572, ' '), number: 572\n",
      "Residue name: ALA, id : (' ', 573, ' '), number: 573\n",
      "Residue name: VAL, id : (' ', 574, ' '), number: 574\n",
      "Residue name: ALA, id : (' ', 575, ' '), number: 575\n",
      "Residue name: ILE, id : (' ', 576, ' '), number: 576\n",
      "Residue name: PHE, id : (' ', 577, ' '), number: 577\n",
      "Residue name: LYS, id : (' ', 578, ' '), number: 578\n",
      "Residue name: LEU, id : (' ', 579, ' '), number: 579\n",
      "Residue name: LEU, id : (' ', 580, ' '), number: 580\n",
      "Residue name: SER, id : (' ', 581, ' '), number: 581\n",
      "Residue name: THR, id : (' ', 582, ' '), number: 582\n",
      "Residue name: PRO, id : (' ', 583, ' '), number: 583\n",
      "Residue name: GLY, id : (' ', 584, ' '), number: 584\n",
      "Residue name: SER, id : (' ', 585, ' '), number: 585\n",
      "Residue name: LEU, id : (' ', 586, ' '), number: 586\n",
      "Residue name: ARG, id : (' ', 587, ' '), number: 587\n",
      "Residue name: GLN, id : (' ', 588, ' '), number: 588\n",
      "Residue name: ARG, id : (' ', 589, ' '), number: 589\n",
      "Residue name: PHE, id : (' ', 590, ' '), number: 590\n",
      "Residue name: THR, id : (' ', 591, ' '), number: 591\n",
      "Residue name: ILE, id : (' ', 592, ' '), number: 592\n",
      "Residue name: LEU, id : (' ', 593, ' '), number: 593\n",
      "Residue name: THR, id : (' ', 594, ' '), number: 594\n",
      "Residue name: THR, id : (' ', 595, ' '), number: 595\n",
      "Residue name: PRO, id : (' ', 596, ' '), number: 596\n",
      "Residue name: TRP, id : (' ', 597, ' '), number: 597\n",
      "Residue name: ARG, id : (' ', 598, ' '), number: 598\n",
      "Residue name: ASP, id : (' ', 599, ' '), number: 599\n",
      "Residue name: GLN, id : (' ', 600, ' '), number: 600\n",
      "Residue name: NA, id : ('H_NA', 701, ' '), number: 701\n",
      "Residue name: NA, id : ('H_NA', 702, ' '), number: 702\n",
      "Residue name: CL, id : ('H_CL', 703, ' '), number: 703\n",
      "Residue name: NAG, id : ('H_NAG', 706, ' '), number: 706\n",
      "Residue name: P4G, id : ('H_P4G', 707, ' '), number: 707\n",
      "Residue name: LDP, id : ('H_LDP', 708, ' '), number: 708\n",
      "Residue name: EDO, id : ('H_EDO', 709, ' '), number: 709\n",
      "Residue name: Y01, id : ('H_Y01', 710, ' '), number: 710\n",
      "Residue name: CLR, id : ('H_CLR', 711, ' '), number: 711\n",
      "Residue name: HOH, id : ('W', 801, ' '), number: 801\n",
      "Residue name: HOH, id : ('W', 802, ' '), number: 802\n",
      "Residue name: HOH, id : ('W', 803, ' '), number: 803\n",
      "Residue name: HOH, id : ('W', 804, ' '), number: 804\n",
      "Residue name: HOH, id : ('W', 805, ' '), number: 805\n",
      "Residue name: HOH, id : ('W', 806, ' '), number: 806\n",
      "Residue name: HOH, id : ('W', 807, ' '), number: 807\n",
      "Residue name: HOH, id : ('W', 808, ' '), number: 808\n",
      "Residue name: HOH, id : ('W', 809, ' '), number: 809\n",
      "Residue name: HOH, id : ('W', 810, ' '), number: 810\n",
      "Residue name: HOH, id : ('W', 811, ' '), number: 811\n",
      "Residue name: HOH, id : ('W', 812, ' '), number: 812\n",
      "Residue name: HOH, id : ('W', 813, ' '), number: 813\n",
      "Residue name: HOH, id : ('W', 814, ' '), number: 814\n",
      "Residue name: HOH, id : ('W', 815, ' '), number: 815\n"
     ]
    }
   ],
   "source": [
    "# Voici les résidus de la chaîne A :\n",
    "# le 1er élément du tuple id n'écrit rien s'il s'agit d'un élément protéique\n",
    "for res in chain:\n",
    "    print(f\"Residue name: {res.resname}, id : {res.id}, number: {res.id[1]}\")"
   ]
  },
  {
   "cell_type": "code",
   "execution_count": 21,
   "metadata": {},
   "outputs": [],
   "source": [
    "# Voici les résidus de la chaîne B :\n",
    "# le 1er élément du tuple id écrit H pour Hétéroatome (ici, un glucide)\n",
    "chain = model['B']"
   ]
  },
  {
   "cell_type": "code",
   "execution_count": 22,
   "metadata": {},
   "outputs": [
    {
     "name": "stdout",
     "output_type": "stream",
     "text": [
      "Residue name: GLC, id : ('H_GLC', 1, ' '), number: 1\n",
      "Residue name: GLC, id : ('H_GLC', 2, ' '), number: 2\n"
     ]
    }
   ],
   "source": [
    "for res in chain:\n",
    "    print(f\"Residue name: {res.resname}, id : {res.id}, number: {res.id[1]}\")"
   ]
  },
  {
   "cell_type": "markdown",
   "metadata": {},
   "source": [
    "Now we see that each chain is made up of `Residue` objects.\n",
    "\n",
    "Finally, each residue should be made up of atoms.\n",
    "\n",
    "Let's get residue 56 from Chain A."
   ]
  },
  {
   "cell_type": "code",
   "execution_count": 23,
   "metadata": {},
   "outputs": [],
   "source": [
    "res = chain_A[56]"
   ]
  },
  {
   "cell_type": "code",
   "execution_count": 24,
   "metadata": {},
   "outputs": [
    {
     "name": "stdout",
     "output_type": "stream",
     "text": [
      "<Residue LEU het=  resseq=56 icode= >\n"
     ]
    }
   ],
   "source": [
    "print(res)"
   ]
  },
  {
   "cell_type": "code",
   "execution_count": 25,
   "metadata": {},
   "outputs": [
    {
     "name": "stdout",
     "output_type": "stream",
     "text": [
      "N\n",
      "CA\n",
      "C\n",
      "O\n",
      "CB\n",
      "CG\n",
      "CD1\n",
      "CD2\n"
     ]
    }
   ],
   "source": [
    "for atom in res:\n",
    "    print(f\"{atom.name}\")"
   ]
  },
  {
   "cell_type": "markdown",
   "metadata": {},
   "source": [
    "Putting it all together, we can print every atom in every chain."
   ]
  },
  {
   "cell_type": "code",
   "execution_count": null,
   "metadata": {},
   "outputs": [],
   "source": [
    "# for model in structure:\n",
    "#     for chain in model:\n",
    "#         for residue in chain:\n",
    "#             for atom in residue:\n",
    "#                 print(atom)"
   ]
  },
  {
   "cell_type": "markdown",
   "metadata": {},
   "source": [
    "# Mini project: find the dopamine binding pockets\n",
    "\n",
    "Let's say I want to design a drug that binds to the transporter and blocks it from binding to dopamine.\n",
    "\n",
    "This should have the effect of making people happier because dopamine now won't be removed from the synapses.\n",
    "\n",
    "Actually, that's exactly what many antidepressants and narcotics (cocaine, amphetamines) do.\n",
    "\n",
    "In order to do this, we need to know which residues dopamine binds so we can design a chemical that targets these kinds of residues.\n",
    "\n",
    "## mmCIF annotations\n",
    "\n",
    "mmCIF files are like dictionaries with key:value pairs.\n",
    "\n",
    "When we parsed the file above, we really only got the structure info, but there is a lot more information that we can access by parsing a little differently.\n"
   ]
  },
  {
   "cell_type": "markdown",
   "metadata": {},
   "source": [
    "MMCIF files have a ton of information and they look like this:\n",
    "\n",
    "```\n",
    "# \n",
    "loop_\n",
    "_pdbx_nonpoly_scheme.asym_id \n",
    "_pdbx_nonpoly_scheme.entity_id \n",
    "_pdbx_nonpoly_scheme.mon_id \n",
    "_pdbx_nonpoly_scheme.ndb_seq_num \n",
    "_pdbx_nonpoly_scheme.pdb_seq_num \n",
    "_pdbx_nonpoly_scheme.auth_seq_num \n",
    "_pdbx_nonpoly_scheme.pdb_mon_id \n",
    "_pdbx_nonpoly_scheme.auth_mon_id \n",
    "_pdbx_nonpoly_scheme.pdb_strand_id \n",
    "_pdbx_nonpoly_scheme.pdb_ins_code \n",
    "D 4  NA  1  701 701 NA  NA  A . \n",
    "E 4  NA  1  702 702 NA  NA  A . \n",
    "F 5  CL  1  703 704 CL  CL  A . \n",
    "G 6  MAL 1  704 1   MAL MAL A . \n",
    "H 6  MAL 1  705 2   MAL MAL A . \n",
    "I 7  NAG 1  706 1   NAG NAG A . \n",
    "J 8  P4G 1  707 1   P4G P4G A . \n",
    "K 9  LDP 1  708 2   LDP LDP A . \n",
    "```\n",
    "\n",
    "This happens to be an entry for \"non-polymer\" entities aka ligands/chemicals.\n",
    "\n",
    "There are 10 `_pdbx_nonpoly_scheme..` headers. Each corresponds to a label for the columns in the entries below.\n",
    "\n",
    "So `_pdbx_nonpoly_scheme.mon_id` corresponds to the third column which is the `id` of the ligand.\n",
    "\n",
    "The `loop_` means, when parsing, loop over all the rows for each column label to make a list.\n",
    "\n",
    "For example: `_pdbx_nonpoly_scheme.asym_id ` after looping would map to: `['D', 'E', 'F', 'G', ...]`\n",
    "\n",
    "We're interested in `LDP` which is dopamine, but we see that there are others.\n",
    "\n",
    "BioPython lets us parse this information into a dictionary."
   ]
  },
  {
   "cell_type": "code",
   "execution_count": null,
   "metadata": {},
   "outputs": [],
   "source": [
    "struc_dict = MMCIF2Dict.MMCIF2Dict('xp/4xp1.cif')"
   ]
  },
  {
   "cell_type": "code",
   "execution_count": null,
   "metadata": {},
   "outputs": [],
   "source": [
    "print(struc_dict.keys())"
   ]
  },
  {
   "cell_type": "markdown",
   "metadata": {},
   "source": [
    "As you can see we have tons of keys.\n",
    "\n",
    "Binding sites are often annotated by the researches in their mmCIF files.\n",
    "\n",
    "```\n",
    "loop_\n",
    "_struct_site.id \n",
    "_struct_site.pdbx_evidence_code \n",
    "_struct_site.pdbx_auth_asym_id \n",
    "_struct_site.pdbx_auth_comp_id \n",
    "_struct_site.pdbx_auth_seq_id \n",
    "_struct_site.pdbx_auth_ins_code \n",
    "_struct_site.pdbx_num_residues \n",
    "_struct_site.details \n",
    "AC1 Software A NA  701 ? 5 'binding site for residue NA A 701'                             \n",
    "AC2 Software A NA  702 ? 5 'binding site for residue NA A 702'                             \n",
    "AC3 Software A CL  703 ? 4 'binding site for residue CL A 703'                             \n",
    "AC4 Software A MAL 704 ? 4 'binding site for residue MAL A 704'                            \n",
    "AC5 Software A MAL 705 ? 4 'binding site for residue MAL A 705'                            \n",
    "AC6 Software A P4G 707 ? 1 'binding site for residue P4G A 707'                            \n",
    "AC7 Software A LDP 708 ? 9 'binding site for residue LDP A 708'                            \n",
    "AC8 Software A EDO 709 ? 2 'binding site for residue EDO A 709'                            \n",
    "AC9 Software A Y01 710 ? 4 'binding site for residue Y01 A 710'                            \n",
    "AD1 Software A CLR 711 ? 5 'binding site for residue CLR A 711'                            \n",
    "AD2 Software L NA  301 ? 4 'binding site for residue NA L 301'                             \n",
    "AD3 Software A NAG 706 ? 1 'binding site for Mono-Saccharide NAG A 706 bound to ASN A 141' \n",
    "```"
   ]
  },
  {
   "cell_type": "code",
   "execution_count": null,
   "metadata": {},
   "outputs": [],
   "source": [
    "struc_dict['_struct_site.details']"
   ]
  },
  {
   "cell_type": "markdown",
   "metadata": {},
   "source": [
    "So the binding site for LDP has ID `AC7`."
   ]
  },
  {
   "cell_type": "markdown",
   "metadata": {},
   "source": [
    "Now if we look at another entry in the mmCIF we can get a list of all the residues in each binding site:\n",
    "\n",
    "```\n",
    "loop_\n",
    "_struct_site_gen.id \n",
    "_struct_site_gen.site_id \n",
    "_struct_site_gen.pdbx_num_res \n",
    "_struct_site_gen.label_comp_id \n",
    "_struct_site_gen.label_asym_id \n",
    "_struct_site_gen.label_seq_id \n",
    "_struct_site_gen.pdbx_auth_ins_code \n",
    "_struct_site_gen.auth_comp_id \n",
    "_struct_site_gen.auth_asym_id \n",
    "_struct_site_gen.auth_seq_id \n",
    "_struct_site_gen.label_atom_id \n",
    "_struct_site_gen.label_alt_id \n",
    "_struct_site_gen.symmetry \n",
    "_struct_site_gen.details \n",
    "1  AC1 5 ALA A 20  ? ALA A 44  . ? 1_555 ? \n",
    "2  AC1 5 ASN A 25  ? ASN A 49  . ? 1_555 ? \n",
    "3  AC1 5 SER A 255 ? SER A 320 . ? 1_555 ? \n",
    "4  AC1 5 ASN A 287 ? ASN A 352 . ? 1_555 ? \n",
    "5  AC1 5 HOH P .   ? HOH A 814 . ? 1_555 ? \n",
    "...\n",
    "...\n",
    "```"
   ]
  },
  {
   "cell_type": "markdown",
   "metadata": {},
   "source": [
    "There are other useful entries such as the title of the publication that this structure was featured in."
   ]
  },
  {
   "cell_type": "code",
   "execution_count": null,
   "metadata": {},
   "outputs": [],
   "source": [
    "struc_dict['_citation.title']"
   ]
  },
  {
   "cell_type": "markdown",
   "metadata": {},
   "source": [
    "All entry types are documented [here](http://mmcif.wwpdb.org/dictionaries/mmcif_pdbx_v50.dic/Index/).\n",
    "\n",
    "Let's extract all residues in the LDP binding site."
   ]
  },
  {
   "cell_type": "code",
   "execution_count": null,
   "metadata": {},
   "outputs": [],
   "source": [
    "site_ID = struc_dict['_struct_site_gen.site_id']\n",
    "site_chain = struc_dict['_struct_site_gen.auth_asym_id']\n",
    "site_resnum = struc_dict['_struct_site_gen.auth_seq_id']\n",
    "site_resname = struc_dict['_struct_site_gen.label_comp_id']\n",
    "\n",
    "cif_binding_residues = []\n",
    "for bind_id, ch, num, name in zip(site_ID, site_chain, site_resnum, site_resname):\n",
    "    if bind_id == \"AC7\":\n",
    "        print(bind_id, ch, num, name)\n",
    "        try:\n",
    "            cif_binding_residues.append(structure[0][ch][int(num)])\n",
    "        except:\n",
    "            continue\n",
    "    else:\n",
    "        continue"
   ]
  },
  {
   "cell_type": "markdown",
   "metadata": {},
   "source": [
    "Let's say we don't trust this annotation. We can compute our own ligand binding site and compare.\n",
    "\n",
    "NOTE: Obviously we could have done this directly with the `structure` object we obtained earlier.\n",
    "\n",
    "### Step 1: Find the LDP residue\n",
    "\n",
    "We can get all the residues of a model using the `model.get_residues()` method."
   ]
  },
  {
   "cell_type": "code",
   "execution_count": null,
   "metadata": {},
   "outputs": [],
   "source": [
    "#finding LDP residue\n",
    "LDP = None\n",
    "for res in structure[0].get_residues():\n",
    "    if res.resname == \"LDP\":\n",
    "        LDP = res\n",
    "        break\n",
    "print(LDP)"
   ]
  },
  {
   "cell_type": "markdown",
   "metadata": {},
   "source": [
    "### Step 2: find all other residues within a certain distance cutoff\n",
    "\n",
    "Let's set a distance cutoff of 10 Angstroms.\n",
    "\n",
    "We will count as binding residues any residue whose $\\alpha$-carbon is within 10 Angstrom of any atom in LDP.\n",
    "\n",
    "BioPython gives us a vector of X, Y, Z coordinates for every atom in the residue.\n",
    "\n",
    "Let's get the X, Y, Z coordinates of the alpha carbon of residue 56 in chain A.\n",
    "\n",
    "For this, we use the `coord` attribute."
   ]
  },
  {
   "cell_type": "code",
   "execution_count": null,
   "metadata": {},
   "outputs": [],
   "source": [
    "res_1_CA = structure[0]['A'][56]['CA']\n",
    "print(res_1_CA.coord)"
   ]
  },
  {
   "cell_type": "markdown",
   "metadata": {},
   "source": [
    "Now we can use this to compute distances!"
   ]
  },
  {
   "cell_type": "markdown",
   "metadata": {},
   "source": [
    "Let's take another atom."
   ]
  },
  {
   "cell_type": "code",
   "execution_count": null,
   "metadata": {},
   "outputs": [],
   "source": [
    "res_2_CA = structure[0]['A'][327]['CA']\n",
    "print(res_2_CA.coord)"
   ]
  },
  {
   "cell_type": "markdown",
   "metadata": {},
   "source": [
    "The difference between the coordinates will be a 3D vector."
   ]
  },
  {
   "cell_type": "code",
   "execution_count": null,
   "metadata": {},
   "outputs": [],
   "source": [
    "diff = res_1_CA.coord - res_2_CA.coord\n",
    "print(diff)"
   ]
  },
  {
   "cell_type": "markdown",
   "metadata": {},
   "source": [
    "To get positive values we square the vector and then take the square root."
   ]
  },
  {
   "cell_type": "code",
   "execution_count": null,
   "metadata": {},
   "outputs": [],
   "source": [
    "import numpy as np\n",
    "dist = np.sqrt(diff * diff)\n",
    "print(dist)"
   ]
  },
  {
   "cell_type": "markdown",
   "metadata": {},
   "source": [
    "We now have the distance along each axis between the two CA atoms of the two residues.\n",
    "\n",
    "We can apply this to every residue."
   ]
  },
  {
   "cell_type": "code",
   "execution_count": null,
   "metadata": {},
   "outputs": [],
   "source": [
    "cutoff = 10\n",
    "\n",
    "binding_residues = []\n",
    "\n",
    "for res in structure[0].get_residues():\n",
    "    #skip the LDP residue\n",
    "    if res == LDP:\n",
    "        continue\n",
    "    #non-amino acid residues are tagged with an 'H' in their id tuple\n",
    "    #we want to skip these\n",
    "    elif res.id[0].startswith(\"H\"):\n",
    "        continue\n",
    "    else:\n",
    "        alpha_carbon = res['CA']\n",
    "        distances = []\n",
    "        for atom in LDP:\n",
    "            #subtract the two position vectors\n",
    "            diff_vector = alpha_carbon.coord - atom.coord\n",
    "            #to get a positive value we square the difference vector\n",
    "            #we then take the square root to go back to the original scale\n",
    "            distances.append(np.sqrt(np.sum(diff_vector * diff_vector)))\n",
    "        #we get the nearest atom using min(distances) and see if it falls inside\n",
    "        #the cutoff\n",
    "        if min(distances) < cutoff:\n",
    "            binding_residues.append(res)"
   ]
  },
  {
   "cell_type": "code",
   "execution_count": null,
   "metadata": {},
   "outputs": [],
   "source": [
    "print(binding_residues)"
   ]
  },
  {
   "cell_type": "code",
   "execution_count": null,
   "metadata": {},
   "outputs": [],
   "source": [
    "#view = nv.demo()\n",
    "view = nv.show_biopython(structure)\n",
    "\n",
    "# use hex values for now.\n",
    "residues = structure[0].get_residues()\n",
    "#this is a bit of a hack to set the binding residues to red in the visualization\n",
    "colors = ['0x0000FF' if r not in binding_residues else '0xFF0000' for r in residues]\n",
    "view._set_color_by_residue(colors, component_index=0, repr_index=0)\n",
    "view"
   ]
  },
  {
   "cell_type": "markdown",
   "metadata": {},
   "source": [
    "Ok now let's compare this to our list of residues obtained from the mmCIF annotations."
   ]
  },
  {
   "cell_type": "code",
   "execution_count": null,
   "metadata": {},
   "outputs": [],
   "source": [
    "view = nv.show_biopython(structure)\n",
    "\n",
    "# use hex values for now.\n",
    "residues = structure[0].get_residues()\n",
    "#this is a bit of a hack to set the binding residues to red in the visualization\n",
    "colors = ['0x0000FF' if r not in cif_binding_residues else '0xFF0000' for r in residues]\n",
    "view._set_color_by_residue(colors, component_index=0, repr_index=0)\n",
    "view"
   ]
  },
  {
   "cell_type": "markdown",
   "metadata": {},
   "source": [
    "It looks like we were maybe a bit too permissive with our distance cutoff."
   ]
  }
 ],
 "metadata": {
  "kernelspec": {
   "display_name": "Python 3",
   "language": "python",
   "name": "python3"
  },
  "language_info": {
   "codemirror_mode": {
    "name": "ipython",
    "version": 3
   },
   "file_extension": ".py",
   "mimetype": "text/x-python",
   "name": "python",
   "nbconvert_exporter": "python",
   "pygments_lexer": "ipython3",
   "version": "3.8.8"
  }
 },
 "nbformat": 4,
 "nbformat_minor": 2
}
